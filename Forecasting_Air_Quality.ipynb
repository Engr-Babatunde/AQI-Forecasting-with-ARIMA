{
  "cells": [
    {
      "cell_type": "markdown",
      "metadata": {
        "id": "G6fj4pGiwYQe"
      },
      "source": [
        "# **Forecasting Air Quality**"
      ]
    },
    {
      "cell_type": "code",
      "execution_count": 3,
      "metadata": {
        "id": "qleZEkPiQRwa"
      },
      "outputs": [],
      "source": [
        "import pandas as pd\n",
        "import numpy as np\n",
        "import matplotlib.pyplot as plt\n",
        "import seaborn as sns\n",
        "\n",
        "from statsmodels.tsa.stattools import adfuller\n",
        "from statsmodels.graphics.tsaplots import plot_acf, plot_pacf\n",
        "import statsmodels.api as sm\n",
        "\n",
        "\n"
      ]
    },
    {
      "cell_type": "markdown",
      "metadata": {
        "id": "RpgvPqfCO8GH"
      },
      "source": [
        "# **Load Dataset**"
      ]
    },
    {
      "cell_type": "code",
      "execution_count": 4,
      "metadata": {
        "id": "4b8ff44d"
      },
      "outputs": [],
      "source": [
        "#load dataset\n",
        "aq = pd.read_csv(\"/content/aqi.csv\")"
      ]
    },
    {
      "cell_type": "markdown",
      "metadata": {
        "id": "-hsnsKEnOv2F"
      },
      "source": [
        "# Exploring the **Dataset**"
      ]
    },
    {
      "cell_type": "code",
      "execution_count": 5,
      "metadata": {
        "colab": {
          "base_uri": "https://localhost:8080/",
          "height": 216
        },
        "id": "daybj-J4z3Tc",
        "outputId": "5b62b78d-e2a7-4a7e-8dbe-f099503272a7"
      },
      "outputs": [
        {
          "output_type": "execute_result",
          "data": {
            "text/plain": [
              "         date           state      area  number_of_monitoring_stations  \\\n",
              "0  30-04-2025     Maharashtra  Amravati                              2   \n",
              "1  30-04-2025           Bihar    Purnia                              1   \n",
              "2  30-04-2025  Madhya Pradesh     Katni                              1   \n",
              "\n",
              "  prominent_pollutants  aqi_value air_quality_status  \\\n",
              "0                 PM10         78       Satisfactory   \n",
              "1                   CO         56       Satisfactory   \n",
              "2                   O3         98       Satisfactory   \n",
              "\n",
              "                                                unit  note  \n",
              "0  number_of_monitoring_stations in Absolute Numb...   NaN  \n",
              "1  number_of_monitoring_stations in Absolute Numb...   NaN  \n",
              "2  number_of_monitoring_stations in Absolute Numb...   NaN  "
            ],
            "text/html": [
              "\n",
              "  <div id=\"df-a988eb9c-afa4-4c84-b724-3fa143357740\" class=\"colab-df-container\">\n",
              "    <div>\n",
              "<style scoped>\n",
              "    .dataframe tbody tr th:only-of-type {\n",
              "        vertical-align: middle;\n",
              "    }\n",
              "\n",
              "    .dataframe tbody tr th {\n",
              "        vertical-align: top;\n",
              "    }\n",
              "\n",
              "    .dataframe thead th {\n",
              "        text-align: right;\n",
              "    }\n",
              "</style>\n",
              "<table border=\"1\" class=\"dataframe\">\n",
              "  <thead>\n",
              "    <tr style=\"text-align: right;\">\n",
              "      <th></th>\n",
              "      <th>date</th>\n",
              "      <th>state</th>\n",
              "      <th>area</th>\n",
              "      <th>number_of_monitoring_stations</th>\n",
              "      <th>prominent_pollutants</th>\n",
              "      <th>aqi_value</th>\n",
              "      <th>air_quality_status</th>\n",
              "      <th>unit</th>\n",
              "      <th>note</th>\n",
              "    </tr>\n",
              "  </thead>\n",
              "  <tbody>\n",
              "    <tr>\n",
              "      <th>0</th>\n",
              "      <td>30-04-2025</td>\n",
              "      <td>Maharashtra</td>\n",
              "      <td>Amravati</td>\n",
              "      <td>2</td>\n",
              "      <td>PM10</td>\n",
              "      <td>78</td>\n",
              "      <td>Satisfactory</td>\n",
              "      <td>number_of_monitoring_stations in Absolute Numb...</td>\n",
              "      <td>NaN</td>\n",
              "    </tr>\n",
              "    <tr>\n",
              "      <th>1</th>\n",
              "      <td>30-04-2025</td>\n",
              "      <td>Bihar</td>\n",
              "      <td>Purnia</td>\n",
              "      <td>1</td>\n",
              "      <td>CO</td>\n",
              "      <td>56</td>\n",
              "      <td>Satisfactory</td>\n",
              "      <td>number_of_monitoring_stations in Absolute Numb...</td>\n",
              "      <td>NaN</td>\n",
              "    </tr>\n",
              "    <tr>\n",
              "      <th>2</th>\n",
              "      <td>30-04-2025</td>\n",
              "      <td>Madhya Pradesh</td>\n",
              "      <td>Katni</td>\n",
              "      <td>1</td>\n",
              "      <td>O3</td>\n",
              "      <td>98</td>\n",
              "      <td>Satisfactory</td>\n",
              "      <td>number_of_monitoring_stations in Absolute Numb...</td>\n",
              "      <td>NaN</td>\n",
              "    </tr>\n",
              "  </tbody>\n",
              "</table>\n",
              "</div>\n",
              "    <div class=\"colab-df-buttons\">\n",
              "\n",
              "  <div class=\"colab-df-container\">\n",
              "    <button class=\"colab-df-convert\" onclick=\"convertToInteractive('df-a988eb9c-afa4-4c84-b724-3fa143357740')\"\n",
              "            title=\"Convert this dataframe to an interactive table.\"\n",
              "            style=\"display:none;\">\n",
              "\n",
              "  <svg xmlns=\"http://www.w3.org/2000/svg\" height=\"24px\" viewBox=\"0 -960 960 960\">\n",
              "    <path d=\"M120-120v-720h720v720H120Zm60-500h600v-160H180v160Zm220 220h160v-160H400v160Zm0 220h160v-160H400v160ZM180-400h160v-160H180v160Zm440 0h160v-160H620v160ZM180-180h160v-160H180v160Zm440 0h160v-160H620v160Z\"/>\n",
              "  </svg>\n",
              "    </button>\n",
              "\n",
              "  <style>\n",
              "    .colab-df-container {\n",
              "      display:flex;\n",
              "      gap: 12px;\n",
              "    }\n",
              "\n",
              "    .colab-df-convert {\n",
              "      background-color: #E8F0FE;\n",
              "      border: none;\n",
              "      border-radius: 50%;\n",
              "      cursor: pointer;\n",
              "      display: none;\n",
              "      fill: #1967D2;\n",
              "      height: 32px;\n",
              "      padding: 0 0 0 0;\n",
              "      width: 32px;\n",
              "    }\n",
              "\n",
              "    .colab-df-convert:hover {\n",
              "      background-color: #E2EBFA;\n",
              "      box-shadow: 0px 1px 2px rgba(60, 64, 67, 0.3), 0px 1px 3px 1px rgba(60, 64, 67, 0.15);\n",
              "      fill: #174EA6;\n",
              "    }\n",
              "\n",
              "    .colab-df-buttons div {\n",
              "      margin-bottom: 4px;\n",
              "    }\n",
              "\n",
              "    [theme=dark] .colab-df-convert {\n",
              "      background-color: #3B4455;\n",
              "      fill: #D2E3FC;\n",
              "    }\n",
              "\n",
              "    [theme=dark] .colab-df-convert:hover {\n",
              "      background-color: #434B5C;\n",
              "      box-shadow: 0px 1px 3px 1px rgba(0, 0, 0, 0.15);\n",
              "      filter: drop-shadow(0px 1px 2px rgba(0, 0, 0, 0.3));\n",
              "      fill: #FFFFFF;\n",
              "    }\n",
              "  </style>\n",
              "\n",
              "    <script>\n",
              "      const buttonEl =\n",
              "        document.querySelector('#df-a988eb9c-afa4-4c84-b724-3fa143357740 button.colab-df-convert');\n",
              "      buttonEl.style.display =\n",
              "        google.colab.kernel.accessAllowed ? 'block' : 'none';\n",
              "\n",
              "      async function convertToInteractive(key) {\n",
              "        const element = document.querySelector('#df-a988eb9c-afa4-4c84-b724-3fa143357740');\n",
              "        const dataTable =\n",
              "          await google.colab.kernel.invokeFunction('convertToInteractive',\n",
              "                                                    [key], {});\n",
              "        if (!dataTable) return;\n",
              "\n",
              "        const docLinkHtml = 'Like what you see? Visit the ' +\n",
              "          '<a target=\"_blank\" href=https://colab.research.google.com/notebooks/data_table.ipynb>data table notebook</a>'\n",
              "          + ' to learn more about interactive tables.';\n",
              "        element.innerHTML = '';\n",
              "        dataTable['output_type'] = 'display_data';\n",
              "        await google.colab.output.renderOutput(dataTable, element);\n",
              "        const docLink = document.createElement('div');\n",
              "        docLink.innerHTML = docLinkHtml;\n",
              "        element.appendChild(docLink);\n",
              "      }\n",
              "    </script>\n",
              "  </div>\n",
              "\n",
              "\n",
              "    <div id=\"df-bb743453-5298-43b8-88ab-c0271dd34a40\">\n",
              "      <button class=\"colab-df-quickchart\" onclick=\"quickchart('df-bb743453-5298-43b8-88ab-c0271dd34a40')\"\n",
              "                title=\"Suggest charts\"\n",
              "                style=\"display:none;\">\n",
              "\n",
              "<svg xmlns=\"http://www.w3.org/2000/svg\" height=\"24px\"viewBox=\"0 0 24 24\"\n",
              "     width=\"24px\">\n",
              "    <g>\n",
              "        <path d=\"M19 3H5c-1.1 0-2 .9-2 2v14c0 1.1.9 2 2 2h14c1.1 0 2-.9 2-2V5c0-1.1-.9-2-2-2zM9 17H7v-7h2v7zm4 0h-2V7h2v10zm4 0h-2v-4h2v4z\"/>\n",
              "    </g>\n",
              "</svg>\n",
              "      </button>\n",
              "\n",
              "<style>\n",
              "  .colab-df-quickchart {\n",
              "      --bg-color: #E8F0FE;\n",
              "      --fill-color: #1967D2;\n",
              "      --hover-bg-color: #E2EBFA;\n",
              "      --hover-fill-color: #174EA6;\n",
              "      --disabled-fill-color: #AAA;\n",
              "      --disabled-bg-color: #DDD;\n",
              "  }\n",
              "\n",
              "  [theme=dark] .colab-df-quickchart {\n",
              "      --bg-color: #3B4455;\n",
              "      --fill-color: #D2E3FC;\n",
              "      --hover-bg-color: #434B5C;\n",
              "      --hover-fill-color: #FFFFFF;\n",
              "      --disabled-bg-color: #3B4455;\n",
              "      --disabled-fill-color: #666;\n",
              "  }\n",
              "\n",
              "  .colab-df-quickchart {\n",
              "    background-color: var(--bg-color);\n",
              "    border: none;\n",
              "    border-radius: 50%;\n",
              "    cursor: pointer;\n",
              "    display: none;\n",
              "    fill: var(--fill-color);\n",
              "    height: 32px;\n",
              "    padding: 0;\n",
              "    width: 32px;\n",
              "  }\n",
              "\n",
              "  .colab-df-quickchart:hover {\n",
              "    background-color: var(--hover-bg-color);\n",
              "    box-shadow: 0 1px 2px rgba(60, 64, 67, 0.3), 0 1px 3px 1px rgba(60, 64, 67, 0.15);\n",
              "    fill: var(--button-hover-fill-color);\n",
              "  }\n",
              "\n",
              "  .colab-df-quickchart-complete:disabled,\n",
              "  .colab-df-quickchart-complete:disabled:hover {\n",
              "    background-color: var(--disabled-bg-color);\n",
              "    fill: var(--disabled-fill-color);\n",
              "    box-shadow: none;\n",
              "  }\n",
              "\n",
              "  .colab-df-spinner {\n",
              "    border: 2px solid var(--fill-color);\n",
              "    border-color: transparent;\n",
              "    border-bottom-color: var(--fill-color);\n",
              "    animation:\n",
              "      spin 1s steps(1) infinite;\n",
              "  }\n",
              "\n",
              "  @keyframes spin {\n",
              "    0% {\n",
              "      border-color: transparent;\n",
              "      border-bottom-color: var(--fill-color);\n",
              "      border-left-color: var(--fill-color);\n",
              "    }\n",
              "    20% {\n",
              "      border-color: transparent;\n",
              "      border-left-color: var(--fill-color);\n",
              "      border-top-color: var(--fill-color);\n",
              "    }\n",
              "    30% {\n",
              "      border-color: transparent;\n",
              "      border-left-color: var(--fill-color);\n",
              "      border-top-color: var(--fill-color);\n",
              "      border-right-color: var(--fill-color);\n",
              "    }\n",
              "    40% {\n",
              "      border-color: transparent;\n",
              "      border-right-color: var(--fill-color);\n",
              "      border-top-color: var(--fill-color);\n",
              "    }\n",
              "    60% {\n",
              "      border-color: transparent;\n",
              "      border-right-color: var(--fill-color);\n",
              "    }\n",
              "    80% {\n",
              "      border-color: transparent;\n",
              "      border-right-color: var(--fill-color);\n",
              "      border-bottom-color: var(--fill-color);\n",
              "    }\n",
              "    90% {\n",
              "      border-color: transparent;\n",
              "      border-bottom-color: var(--fill-color);\n",
              "    }\n",
              "  }\n",
              "</style>\n",
              "\n",
              "      <script>\n",
              "        async function quickchart(key) {\n",
              "          const quickchartButtonEl =\n",
              "            document.querySelector('#' + key + ' button');\n",
              "          quickchartButtonEl.disabled = true;  // To prevent multiple clicks.\n",
              "          quickchartButtonEl.classList.add('colab-df-spinner');\n",
              "          try {\n",
              "            const charts = await google.colab.kernel.invokeFunction(\n",
              "                'suggestCharts', [key], {});\n",
              "          } catch (error) {\n",
              "            console.error('Error during call to suggestCharts:', error);\n",
              "          }\n",
              "          quickchartButtonEl.classList.remove('colab-df-spinner');\n",
              "          quickchartButtonEl.classList.add('colab-df-quickchart-complete');\n",
              "        }\n",
              "        (() => {\n",
              "          let quickchartButtonEl =\n",
              "            document.querySelector('#df-bb743453-5298-43b8-88ab-c0271dd34a40 button');\n",
              "          quickchartButtonEl.style.display =\n",
              "            google.colab.kernel.accessAllowed ? 'block' : 'none';\n",
              "        })();\n",
              "      </script>\n",
              "    </div>\n",
              "\n",
              "    </div>\n",
              "  </div>\n"
            ],
            "application/vnd.google.colaboratory.intrinsic+json": {
              "type": "dataframe",
              "variable_name": "aq"
            }
          },
          "metadata": {},
          "execution_count": 5
        }
      ],
      "source": [
        "aq.head(3)"
      ]
    },
    {
      "cell_type": "code",
      "execution_count": 6,
      "metadata": {
        "colab": {
          "base_uri": "https://localhost:8080/"
        },
        "id": "Fx7Vl7gK6dug",
        "outputId": "fb6eb238-d8dd-4d01-d4d8-5f02dece403e"
      },
      "outputs": [
        {
          "output_type": "execute_result",
          "data": {
            "text/plain": [
              "(235785, 9)"
            ]
          },
          "metadata": {},
          "execution_count": 6
        }
      ],
      "source": [
        "aq.shape"
      ]
    },
    {
      "cell_type": "code",
      "execution_count": 7,
      "metadata": {
        "colab": {
          "base_uri": "https://localhost:8080/"
        },
        "id": "qzGgmbNjPHIl",
        "outputId": "f8bcd139-13b5-4d88-88ee-81895d17ed15"
      },
      "outputs": [
        {
          "output_type": "stream",
          "name": "stdout",
          "text": [
            "<class 'pandas.core.frame.DataFrame'>\n",
            "RangeIndex: 235785 entries, 0 to 235784\n",
            "Data columns (total 9 columns):\n",
            " #   Column                         Non-Null Count   Dtype  \n",
            "---  ------                         --------------   -----  \n",
            " 0   date                           235785 non-null  object \n",
            " 1   state                          235785 non-null  object \n",
            " 2   area                           235785 non-null  object \n",
            " 3   number_of_monitoring_stations  235785 non-null  int64  \n",
            " 4   prominent_pollutants           235785 non-null  object \n",
            " 5   aqi_value                      235785 non-null  int64  \n",
            " 6   air_quality_status             235785 non-null  object \n",
            " 7   unit                           235785 non-null  object \n",
            " 8   note                           0 non-null       float64\n",
            "dtypes: float64(1), int64(2), object(6)\n",
            "memory usage: 16.2+ MB\n"
          ]
        }
      ],
      "source": [
        "#Data variables\n",
        "aq.info()"
      ]
    },
    {
      "cell_type": "code",
      "execution_count": 8,
      "metadata": {
        "id": "VrUxc1jPTA1b"
      },
      "outputs": [],
      "source": [
        "#formating the date to actual date and time datatype\n",
        "aq[\"date\"] = pd.to_datetime(aq[\"date\"], format='%d-%m-%Y', errors=\"coerce\")\n",
        "\n"
      ]
    },
    {
      "cell_type": "code",
      "execution_count": 9,
      "metadata": {
        "id": "l-6ePReWUa4f"
      },
      "outputs": [],
      "source": [
        "aq.drop(columns=[\"unit\", \"note\"], inplace = True )"
      ]
    },
    {
      "cell_type": "code",
      "execution_count": 10,
      "metadata": {
        "colab": {
          "base_uri": "https://localhost:8080/"
        },
        "id": "d7lSlrHyVJsL",
        "outputId": "aefa269b-02d2-4240-9b8f-499d9f683583"
      },
      "outputs": [
        {
          "output_type": "stream",
          "name": "stdout",
          "text": [
            "<class 'pandas.core.frame.DataFrame'>\n",
            "RangeIndex: 235785 entries, 0 to 235784\n",
            "Data columns (total 7 columns):\n",
            " #   Column                         Non-Null Count   Dtype         \n",
            "---  ------                         --------------   -----         \n",
            " 0   date                           235785 non-null  datetime64[ns]\n",
            " 1   state                          235785 non-null  object        \n",
            " 2   area                           235785 non-null  object        \n",
            " 3   number_of_monitoring_stations  235785 non-null  int64         \n",
            " 4   prominent_pollutants           235785 non-null  object        \n",
            " 5   aqi_value                      235785 non-null  int64         \n",
            " 6   air_quality_status             235785 non-null  object        \n",
            "dtypes: datetime64[ns](1), int64(2), object(4)\n",
            "memory usage: 12.6+ MB\n"
          ]
        }
      ],
      "source": [
        "aq.info()"
      ]
    },
    {
      "cell_type": "code",
      "source": [
        "aq[\"prominent_pollutants\"].unique()"
      ],
      "metadata": {
        "colab": {
          "base_uri": "https://localhost:8080/"
        },
        "id": "BAtpaSrebB8N",
        "outputId": "9bce8ec6-eea4-4a01-8668-841ac84a4d0b"
      },
      "execution_count": 11,
      "outputs": [
        {
          "output_type": "execute_result",
          "data": {
            "text/plain": [
              "array(['PM10', 'CO', 'O3', 'PM2.5', 'SO2', 'PM2.5,PM10', 'PM10,NO2',\n",
              "       'PM10,O3', 'O3,PM2.5,PM10', 'PM10,O3,CO', 'PM10,CO', 'PM2.5,O3',\n",
              "       'PM10,SO2', 'PM2.5,CO,O3', 'NO2', 'PM10,PM2.5,NO2', 'CO,O3',\n",
              "       'PM2.5,PM10,CO', 'PM2.5,SO2,O3', 'PM10,NO2,O3', 'SO2,O3',\n",
              "       'PM10,NH3,CO', 'PM10,NO2,PM2.5,O3', 'NO2,PM10,CO', 'CO,SO2',\n",
              "       'PM2.5,NO2', 'PM10,CO,SO2', 'PM2.5,NO2,SO2', 'PM10,SO2,O3',\n",
              "       'PM10,NO2,SO3', 'PM2.5,NH3,O3', 'PM10,PM2.5,SO2', 'NO2,O3',\n",
              "       'PM2.5,SO2', 'CO,NO2', 'NH3', 'PM2.5,CO,NO2', 'PM2.5,NH3',\n",
              "       'NO2,SO2', 'PM2.5,CO,SO2', 'SO3,CO,O3', 'NO2,CO,O3', 'NO2,SO2,CO',\n",
              "       'NO2,O3,SO2', 'PM10,NH3', 'NH3,CO,O3', 'PM10,NH3,O3', 'O3,NH3',\n",
              "       'PM2.5,NH3,CO'], dtype=object)"
            ]
          },
          "metadata": {},
          "execution_count": 11
        }
      ]
    },
    {
      "cell_type": "code",
      "source": [
        "#number of state\n",
        "aq[\"state\"].nunique()"
      ],
      "metadata": {
        "colab": {
          "base_uri": "https://localhost:8080/"
        },
        "id": "Y0AJ7rhdbByD",
        "outputId": "a549e8e6-d33b-4370-e31d-50bcc2696913"
      },
      "execution_count": 12,
      "outputs": [
        {
          "output_type": "execute_result",
          "data": {
            "text/plain": [
              "32"
            ]
          },
          "metadata": {},
          "execution_count": 12
        }
      ]
    },
    {
      "cell_type": "code",
      "execution_count": 13,
      "metadata": {
        "colab": {
          "base_uri": "https://localhost:8080/"
        },
        "id": "EiiaVqkvPl11",
        "outputId": "078bcef6-355f-4234-96fe-7c96082929e7"
      },
      "outputs": [
        {
          "output_type": "execute_result",
          "data": {
            "text/plain": [
              "array(['Maharashtra', 'Bihar', 'Madhya Pradesh', 'Chhattisgarh', 'Assam',\n",
              "       'Manipur', 'Kerala', 'West Bengal', 'Odisha', 'Karnataka',\n",
              "       'Gujarat', 'Uttarakhand', 'Tamil Nadu', 'Andhra Pradesh',\n",
              "       'Rajasthan', 'Uttar Pradesh', 'Punjab', 'Mizoram', 'Chandigarh',\n",
              "       'Telangana', 'Puducherry', 'Meghalaya', 'Himachal Pradesh',\n",
              "       'Jharkhand', 'Haryana', 'Arunachal Pradesh', 'Nagaland', 'Tripura',\n",
              "       'Delhi', 'Andaman and Nicobar Islands', 'Sikkim',\n",
              "       'Jammu and Kashmir'], dtype=object)"
            ]
          },
          "metadata": {},
          "execution_count": 13
        }
      ],
      "source": [
        "#states\n",
        "aq[\"state\"].unique()"
      ]
    },
    {
      "cell_type": "code",
      "source": [
        "aq[\"state\"].value_counts()"
      ],
      "metadata": {
        "colab": {
          "base_uri": "https://localhost:8080/",
          "height": 1000
        },
        "id": "yr-danEfaHnK",
        "outputId": "112fe19c-dbf4-4ccb-b23d-407f394c1ba0"
      },
      "execution_count": 14,
      "outputs": [
        {
          "output_type": "execute_result",
          "data": {
            "text/plain": [
              "state\n",
              "Rajasthan                      26585\n",
              "Karnataka                      23494\n",
              "Maharashtra                    22459\n",
              "Haryana                        21706\n",
              "Uttar Pradesh                  21609\n",
              "Bihar                          21553\n",
              "Madhya Pradesh                 15477\n",
              "Tamil Nadu                     11954\n",
              "Odisha                         11099\n",
              "Punjab                          8488\n",
              "Andhra Pradesh                  7077\n",
              "West Bengal                     6921\n",
              "Gujarat                         6215\n",
              "Kerala                          5574\n",
              "Chhattisgarh                    5556\n",
              "Assam                           4921\n",
              "Uttarakhand                     2332\n",
              "Delhi                           1125\n",
              "Telangana                       1125\n",
              "Chandigarh                      1125\n",
              "Puducherry                      1070\n",
              "Himachal Pradesh                1066\n",
              "Tripura                         1035\n",
              "Mizoram                         1000\n",
              "Nagaland                         957\n",
              "Meghalaya                        874\n",
              "Sikkim                           836\n",
              "Manipur                          826\n",
              "Jharkhand                        721\n",
              "Arunachal Pradesh                509\n",
              "Jammu and Kashmir                438\n",
              "Andaman and Nicobar Islands       58\n",
              "Name: count, dtype: int64"
            ],
            "text/html": [
              "<div>\n",
              "<style scoped>\n",
              "    .dataframe tbody tr th:only-of-type {\n",
              "        vertical-align: middle;\n",
              "    }\n",
              "\n",
              "    .dataframe tbody tr th {\n",
              "        vertical-align: top;\n",
              "    }\n",
              "\n",
              "    .dataframe thead th {\n",
              "        text-align: right;\n",
              "    }\n",
              "</style>\n",
              "<table border=\"1\" class=\"dataframe\">\n",
              "  <thead>\n",
              "    <tr style=\"text-align: right;\">\n",
              "      <th></th>\n",
              "      <th>count</th>\n",
              "    </tr>\n",
              "    <tr>\n",
              "      <th>state</th>\n",
              "      <th></th>\n",
              "    </tr>\n",
              "  </thead>\n",
              "  <tbody>\n",
              "    <tr>\n",
              "      <th>Rajasthan</th>\n",
              "      <td>26585</td>\n",
              "    </tr>\n",
              "    <tr>\n",
              "      <th>Karnataka</th>\n",
              "      <td>23494</td>\n",
              "    </tr>\n",
              "    <tr>\n",
              "      <th>Maharashtra</th>\n",
              "      <td>22459</td>\n",
              "    </tr>\n",
              "    <tr>\n",
              "      <th>Haryana</th>\n",
              "      <td>21706</td>\n",
              "    </tr>\n",
              "    <tr>\n",
              "      <th>Uttar Pradesh</th>\n",
              "      <td>21609</td>\n",
              "    </tr>\n",
              "    <tr>\n",
              "      <th>Bihar</th>\n",
              "      <td>21553</td>\n",
              "    </tr>\n",
              "    <tr>\n",
              "      <th>Madhya Pradesh</th>\n",
              "      <td>15477</td>\n",
              "    </tr>\n",
              "    <tr>\n",
              "      <th>Tamil Nadu</th>\n",
              "      <td>11954</td>\n",
              "    </tr>\n",
              "    <tr>\n",
              "      <th>Odisha</th>\n",
              "      <td>11099</td>\n",
              "    </tr>\n",
              "    <tr>\n",
              "      <th>Punjab</th>\n",
              "      <td>8488</td>\n",
              "    </tr>\n",
              "    <tr>\n",
              "      <th>Andhra Pradesh</th>\n",
              "      <td>7077</td>\n",
              "    </tr>\n",
              "    <tr>\n",
              "      <th>West Bengal</th>\n",
              "      <td>6921</td>\n",
              "    </tr>\n",
              "    <tr>\n",
              "      <th>Gujarat</th>\n",
              "      <td>6215</td>\n",
              "    </tr>\n",
              "    <tr>\n",
              "      <th>Kerala</th>\n",
              "      <td>5574</td>\n",
              "    </tr>\n",
              "    <tr>\n",
              "      <th>Chhattisgarh</th>\n",
              "      <td>5556</td>\n",
              "    </tr>\n",
              "    <tr>\n",
              "      <th>Assam</th>\n",
              "      <td>4921</td>\n",
              "    </tr>\n",
              "    <tr>\n",
              "      <th>Uttarakhand</th>\n",
              "      <td>2332</td>\n",
              "    </tr>\n",
              "    <tr>\n",
              "      <th>Delhi</th>\n",
              "      <td>1125</td>\n",
              "    </tr>\n",
              "    <tr>\n",
              "      <th>Telangana</th>\n",
              "      <td>1125</td>\n",
              "    </tr>\n",
              "    <tr>\n",
              "      <th>Chandigarh</th>\n",
              "      <td>1125</td>\n",
              "    </tr>\n",
              "    <tr>\n",
              "      <th>Puducherry</th>\n",
              "      <td>1070</td>\n",
              "    </tr>\n",
              "    <tr>\n",
              "      <th>Himachal Pradesh</th>\n",
              "      <td>1066</td>\n",
              "    </tr>\n",
              "    <tr>\n",
              "      <th>Tripura</th>\n",
              "      <td>1035</td>\n",
              "    </tr>\n",
              "    <tr>\n",
              "      <th>Mizoram</th>\n",
              "      <td>1000</td>\n",
              "    </tr>\n",
              "    <tr>\n",
              "      <th>Nagaland</th>\n",
              "      <td>957</td>\n",
              "    </tr>\n",
              "    <tr>\n",
              "      <th>Meghalaya</th>\n",
              "      <td>874</td>\n",
              "    </tr>\n",
              "    <tr>\n",
              "      <th>Sikkim</th>\n",
              "      <td>836</td>\n",
              "    </tr>\n",
              "    <tr>\n",
              "      <th>Manipur</th>\n",
              "      <td>826</td>\n",
              "    </tr>\n",
              "    <tr>\n",
              "      <th>Jharkhand</th>\n",
              "      <td>721</td>\n",
              "    </tr>\n",
              "    <tr>\n",
              "      <th>Arunachal Pradesh</th>\n",
              "      <td>509</td>\n",
              "    </tr>\n",
              "    <tr>\n",
              "      <th>Jammu and Kashmir</th>\n",
              "      <td>438</td>\n",
              "    </tr>\n",
              "    <tr>\n",
              "      <th>Andaman and Nicobar Islands</th>\n",
              "      <td>58</td>\n",
              "    </tr>\n",
              "  </tbody>\n",
              "</table>\n",
              "</div><br><label><b>dtype:</b> int64</label>"
            ]
          },
          "metadata": {},
          "execution_count": 14
        }
      ]
    },
    {
      "cell_type": "markdown",
      "source": [
        "Rajasthan been the state with the highest result"
      ],
      "metadata": {
        "id": "FsnioIQ1boVZ"
      }
    },
    {
      "cell_type": "code",
      "source": [
        "rajas_data = aq[aq[\"state\"] == \"Rajasthan\"]\n",
        "\n",
        "# Count pollutants in Rajasthan\n",
        "pollutant_counts = rajas_data[\"prominent_pollutants\"].value_counts()\n",
        "print(pollutant_counts.head(10))"
      ],
      "metadata": {
        "colab": {
          "base_uri": "https://localhost:8080/"
        },
        "id": "afJuQGMubkl2",
        "outputId": "e4126b92-7213-4119-955e-a09f617b7a69"
      },
      "execution_count": 15,
      "outputs": [
        {
          "output_type": "stream",
          "name": "stdout",
          "text": [
            "prominent_pollutants\n",
            "PM10             15449\n",
            "PM2.5             5848\n",
            "O3                3225\n",
            "PM2.5,PM10         738\n",
            "CO                 382\n",
            "PM10,O3            370\n",
            "NO2                160\n",
            "PM2.5,O3           144\n",
            "O3,PM2.5,PM10      101\n",
            "PM10,CO             42\n",
            "Name: count, dtype: int64\n"
          ]
        }
      ]
    },
    {
      "cell_type": "markdown",
      "source": [
        "Rajasthan been the state with the highest result and PM10 been it highest pollutants as such the datset will be reduced to that"
      ],
      "metadata": {
        "id": "Fm2qquL0bkas"
      }
    },
    {
      "cell_type": "code",
      "source": [
        "raj_pm10 = aq[(aq[\"state\"] == \"Rajasthan\") & (aq[\"prominent_pollutants\"] == \"PM10\")]"
      ],
      "metadata": {
        "id": "3GXE8NztcriL"
      },
      "execution_count": 16,
      "outputs": []
    },
    {
      "cell_type": "code",
      "source": [
        "raj_pm10.head(3)"
      ],
      "metadata": {
        "colab": {
          "base_uri": "https://localhost:8080/",
          "height": 143
        },
        "id": "Hx6zf8Y0c_jr",
        "outputId": "f88df53c-60a7-4356-aa65-3851c8bb6b80"
      },
      "execution_count": 17,
      "outputs": [
        {
          "output_type": "execute_result",
          "data": {
            "text/plain": [
              "         date      state       area  number_of_monitoring_stations  \\\n",
              "28 2025-04-30  Rajasthan  Dungarpur                              1   \n",
              "35 2025-04-30  Rajasthan     Nagaur                              1   \n",
              "41 2025-04-30  Rajasthan    Jodhpur                              5   \n",
              "\n",
              "   prominent_pollutants  aqi_value air_quality_status  \n",
              "28                 PM10        111           Moderate  \n",
              "35                 PM10        210               Poor  \n",
              "41                 PM10        124           Moderate  "
            ],
            "text/html": [
              "\n",
              "  <div id=\"df-fd62acee-31ec-446c-a9dc-e0bb668991ba\" class=\"colab-df-container\">\n",
              "    <div>\n",
              "<style scoped>\n",
              "    .dataframe tbody tr th:only-of-type {\n",
              "        vertical-align: middle;\n",
              "    }\n",
              "\n",
              "    .dataframe tbody tr th {\n",
              "        vertical-align: top;\n",
              "    }\n",
              "\n",
              "    .dataframe thead th {\n",
              "        text-align: right;\n",
              "    }\n",
              "</style>\n",
              "<table border=\"1\" class=\"dataframe\">\n",
              "  <thead>\n",
              "    <tr style=\"text-align: right;\">\n",
              "      <th></th>\n",
              "      <th>date</th>\n",
              "      <th>state</th>\n",
              "      <th>area</th>\n",
              "      <th>number_of_monitoring_stations</th>\n",
              "      <th>prominent_pollutants</th>\n",
              "      <th>aqi_value</th>\n",
              "      <th>air_quality_status</th>\n",
              "    </tr>\n",
              "  </thead>\n",
              "  <tbody>\n",
              "    <tr>\n",
              "      <th>28</th>\n",
              "      <td>2025-04-30</td>\n",
              "      <td>Rajasthan</td>\n",
              "      <td>Dungarpur</td>\n",
              "      <td>1</td>\n",
              "      <td>PM10</td>\n",
              "      <td>111</td>\n",
              "      <td>Moderate</td>\n",
              "    </tr>\n",
              "    <tr>\n",
              "      <th>35</th>\n",
              "      <td>2025-04-30</td>\n",
              "      <td>Rajasthan</td>\n",
              "      <td>Nagaur</td>\n",
              "      <td>1</td>\n",
              "      <td>PM10</td>\n",
              "      <td>210</td>\n",
              "      <td>Poor</td>\n",
              "    </tr>\n",
              "    <tr>\n",
              "      <th>41</th>\n",
              "      <td>2025-04-30</td>\n",
              "      <td>Rajasthan</td>\n",
              "      <td>Jodhpur</td>\n",
              "      <td>5</td>\n",
              "      <td>PM10</td>\n",
              "      <td>124</td>\n",
              "      <td>Moderate</td>\n",
              "    </tr>\n",
              "  </tbody>\n",
              "</table>\n",
              "</div>\n",
              "    <div class=\"colab-df-buttons\">\n",
              "\n",
              "  <div class=\"colab-df-container\">\n",
              "    <button class=\"colab-df-convert\" onclick=\"convertToInteractive('df-fd62acee-31ec-446c-a9dc-e0bb668991ba')\"\n",
              "            title=\"Convert this dataframe to an interactive table.\"\n",
              "            style=\"display:none;\">\n",
              "\n",
              "  <svg xmlns=\"http://www.w3.org/2000/svg\" height=\"24px\" viewBox=\"0 -960 960 960\">\n",
              "    <path d=\"M120-120v-720h720v720H120Zm60-500h600v-160H180v160Zm220 220h160v-160H400v160Zm0 220h160v-160H400v160ZM180-400h160v-160H180v160Zm440 0h160v-160H620v160ZM180-180h160v-160H180v160Zm440 0h160v-160H620v160Z\"/>\n",
              "  </svg>\n",
              "    </button>\n",
              "\n",
              "  <style>\n",
              "    .colab-df-container {\n",
              "      display:flex;\n",
              "      gap: 12px;\n",
              "    }\n",
              "\n",
              "    .colab-df-convert {\n",
              "      background-color: #E8F0FE;\n",
              "      border: none;\n",
              "      border-radius: 50%;\n",
              "      cursor: pointer;\n",
              "      display: none;\n",
              "      fill: #1967D2;\n",
              "      height: 32px;\n",
              "      padding: 0 0 0 0;\n",
              "      width: 32px;\n",
              "    }\n",
              "\n",
              "    .colab-df-convert:hover {\n",
              "      background-color: #E2EBFA;\n",
              "      box-shadow: 0px 1px 2px rgba(60, 64, 67, 0.3), 0px 1px 3px 1px rgba(60, 64, 67, 0.15);\n",
              "      fill: #174EA6;\n",
              "    }\n",
              "\n",
              "    .colab-df-buttons div {\n",
              "      margin-bottom: 4px;\n",
              "    }\n",
              "\n",
              "    [theme=dark] .colab-df-convert {\n",
              "      background-color: #3B4455;\n",
              "      fill: #D2E3FC;\n",
              "    }\n",
              "\n",
              "    [theme=dark] .colab-df-convert:hover {\n",
              "      background-color: #434B5C;\n",
              "      box-shadow: 0px 1px 3px 1px rgba(0, 0, 0, 0.15);\n",
              "      filter: drop-shadow(0px 1px 2px rgba(0, 0, 0, 0.3));\n",
              "      fill: #FFFFFF;\n",
              "    }\n",
              "  </style>\n",
              "\n",
              "    <script>\n",
              "      const buttonEl =\n",
              "        document.querySelector('#df-fd62acee-31ec-446c-a9dc-e0bb668991ba button.colab-df-convert');\n",
              "      buttonEl.style.display =\n",
              "        google.colab.kernel.accessAllowed ? 'block' : 'none';\n",
              "\n",
              "      async function convertToInteractive(key) {\n",
              "        const element = document.querySelector('#df-fd62acee-31ec-446c-a9dc-e0bb668991ba');\n",
              "        const dataTable =\n",
              "          await google.colab.kernel.invokeFunction('convertToInteractive',\n",
              "                                                    [key], {});\n",
              "        if (!dataTable) return;\n",
              "\n",
              "        const docLinkHtml = 'Like what you see? Visit the ' +\n",
              "          '<a target=\"_blank\" href=https://colab.research.google.com/notebooks/data_table.ipynb>data table notebook</a>'\n",
              "          + ' to learn more about interactive tables.';\n",
              "        element.innerHTML = '';\n",
              "        dataTable['output_type'] = 'display_data';\n",
              "        await google.colab.output.renderOutput(dataTable, element);\n",
              "        const docLink = document.createElement('div');\n",
              "        docLink.innerHTML = docLinkHtml;\n",
              "        element.appendChild(docLink);\n",
              "      }\n",
              "    </script>\n",
              "  </div>\n",
              "\n",
              "\n",
              "    <div id=\"df-75ef3feb-9a38-46c8-90d4-d2b480359ae6\">\n",
              "      <button class=\"colab-df-quickchart\" onclick=\"quickchart('df-75ef3feb-9a38-46c8-90d4-d2b480359ae6')\"\n",
              "                title=\"Suggest charts\"\n",
              "                style=\"display:none;\">\n",
              "\n",
              "<svg xmlns=\"http://www.w3.org/2000/svg\" height=\"24px\"viewBox=\"0 0 24 24\"\n",
              "     width=\"24px\">\n",
              "    <g>\n",
              "        <path d=\"M19 3H5c-1.1 0-2 .9-2 2v14c0 1.1.9 2 2 2h14c1.1 0 2-.9 2-2V5c0-1.1-.9-2-2-2zM9 17H7v-7h2v7zm4 0h-2V7h2v10zm4 0h-2v-4h2v4z\"/>\n",
              "    </g>\n",
              "</svg>\n",
              "      </button>\n",
              "\n",
              "<style>\n",
              "  .colab-df-quickchart {\n",
              "      --bg-color: #E8F0FE;\n",
              "      --fill-color: #1967D2;\n",
              "      --hover-bg-color: #E2EBFA;\n",
              "      --hover-fill-color: #174EA6;\n",
              "      --disabled-fill-color: #AAA;\n",
              "      --disabled-bg-color: #DDD;\n",
              "  }\n",
              "\n",
              "  [theme=dark] .colab-df-quickchart {\n",
              "      --bg-color: #3B4455;\n",
              "      --fill-color: #D2E3FC;\n",
              "      --hover-bg-color: #434B5C;\n",
              "      --hover-fill-color: #FFFFFF;\n",
              "      --disabled-bg-color: #3B4455;\n",
              "      --disabled-fill-color: #666;\n",
              "  }\n",
              "\n",
              "  .colab-df-quickchart {\n",
              "    background-color: var(--bg-color);\n",
              "    border: none;\n",
              "    border-radius: 50%;\n",
              "    cursor: pointer;\n",
              "    display: none;\n",
              "    fill: var(--fill-color);\n",
              "    height: 32px;\n",
              "    padding: 0;\n",
              "    width: 32px;\n",
              "  }\n",
              "\n",
              "  .colab-df-quickchart:hover {\n",
              "    background-color: var(--hover-bg-color);\n",
              "    box-shadow: 0 1px 2px rgba(60, 64, 67, 0.3), 0 1px 3px 1px rgba(60, 64, 67, 0.15);\n",
              "    fill: var(--button-hover-fill-color);\n",
              "  }\n",
              "\n",
              "  .colab-df-quickchart-complete:disabled,\n",
              "  .colab-df-quickchart-complete:disabled:hover {\n",
              "    background-color: var(--disabled-bg-color);\n",
              "    fill: var(--disabled-fill-color);\n",
              "    box-shadow: none;\n",
              "  }\n",
              "\n",
              "  .colab-df-spinner {\n",
              "    border: 2px solid var(--fill-color);\n",
              "    border-color: transparent;\n",
              "    border-bottom-color: var(--fill-color);\n",
              "    animation:\n",
              "      spin 1s steps(1) infinite;\n",
              "  }\n",
              "\n",
              "  @keyframes spin {\n",
              "    0% {\n",
              "      border-color: transparent;\n",
              "      border-bottom-color: var(--fill-color);\n",
              "      border-left-color: var(--fill-color);\n",
              "    }\n",
              "    20% {\n",
              "      border-color: transparent;\n",
              "      border-left-color: var(--fill-color);\n",
              "      border-top-color: var(--fill-color);\n",
              "    }\n",
              "    30% {\n",
              "      border-color: transparent;\n",
              "      border-left-color: var(--fill-color);\n",
              "      border-top-color: var(--fill-color);\n",
              "      border-right-color: var(--fill-color);\n",
              "    }\n",
              "    40% {\n",
              "      border-color: transparent;\n",
              "      border-right-color: var(--fill-color);\n",
              "      border-top-color: var(--fill-color);\n",
              "    }\n",
              "    60% {\n",
              "      border-color: transparent;\n",
              "      border-right-color: var(--fill-color);\n",
              "    }\n",
              "    80% {\n",
              "      border-color: transparent;\n",
              "      border-right-color: var(--fill-color);\n",
              "      border-bottom-color: var(--fill-color);\n",
              "    }\n",
              "    90% {\n",
              "      border-color: transparent;\n",
              "      border-bottom-color: var(--fill-color);\n",
              "    }\n",
              "  }\n",
              "</style>\n",
              "\n",
              "      <script>\n",
              "        async function quickchart(key) {\n",
              "          const quickchartButtonEl =\n",
              "            document.querySelector('#' + key + ' button');\n",
              "          quickchartButtonEl.disabled = true;  // To prevent multiple clicks.\n",
              "          quickchartButtonEl.classList.add('colab-df-spinner');\n",
              "          try {\n",
              "            const charts = await google.colab.kernel.invokeFunction(\n",
              "                'suggestCharts', [key], {});\n",
              "          } catch (error) {\n",
              "            console.error('Error during call to suggestCharts:', error);\n",
              "          }\n",
              "          quickchartButtonEl.classList.remove('colab-df-spinner');\n",
              "          quickchartButtonEl.classList.add('colab-df-quickchart-complete');\n",
              "        }\n",
              "        (() => {\n",
              "          let quickchartButtonEl =\n",
              "            document.querySelector('#df-75ef3feb-9a38-46c8-90d4-d2b480359ae6 button');\n",
              "          quickchartButtonEl.style.display =\n",
              "            google.colab.kernel.accessAllowed ? 'block' : 'none';\n",
              "        })();\n",
              "      </script>\n",
              "    </div>\n",
              "\n",
              "    </div>\n",
              "  </div>\n"
            ],
            "application/vnd.google.colaboratory.intrinsic+json": {
              "type": "dataframe",
              "variable_name": "raj_pm10",
              "summary": "{\n  \"name\": \"raj_pm10\",\n  \"rows\": 15449,\n  \"fields\": [\n    {\n      \"column\": \"date\",\n      \"properties\": {\n        \"dtype\": \"date\",\n        \"min\": \"2022-04-01 00:00:00\",\n        \"max\": \"2025-04-30 00:00:00\",\n        \"num_unique_values\": 1117,\n        \"samples\": [\n          \"2022-08-01 00:00:00\",\n          \"2025-01-19 00:00:00\",\n          \"2023-12-30 00:00:00\"\n        ],\n        \"semantic_type\": \"\",\n        \"description\": \"\"\n      }\n    },\n    {\n      \"column\": \"state\",\n      \"properties\": {\n        \"dtype\": \"category\",\n        \"num_unique_values\": 1,\n        \"samples\": [\n          \"Rajasthan\"\n        ],\n        \"semantic_type\": \"\",\n        \"description\": \"\"\n      }\n    },\n    {\n      \"column\": \"area\",\n      \"properties\": {\n        \"dtype\": \"category\",\n        \"num_unique_values\": 34,\n        \"samples\": [\n          \"Banswara\"\n        ],\n        \"semantic_type\": \"\",\n        \"description\": \"\"\n      }\n    },\n    {\n      \"column\": \"number_of_monitoring_stations\",\n      \"properties\": {\n        \"dtype\": \"number\",\n        \"std\": 0,\n        \"min\": 1,\n        \"max\": 6,\n        \"num_unique_values\": 6,\n        \"samples\": [\n          1\n        ],\n        \"semantic_type\": \"\",\n        \"description\": \"\"\n      }\n    },\n    {\n      \"column\": \"prominent_pollutants\",\n      \"properties\": {\n        \"dtype\": \"category\",\n        \"num_unique_values\": 1,\n        \"samples\": [\n          \"PM10\"\n        ],\n        \"semantic_type\": \"\",\n        \"description\": \"\"\n      }\n    },\n    {\n      \"column\": \"aqi_value\",\n      \"properties\": {\n        \"dtype\": \"number\",\n        \"std\": 49,\n        \"min\": 18,\n        \"max\": 441,\n        \"num_unique_values\": 349,\n        \"samples\": [\n          173\n        ],\n        \"semantic_type\": \"\",\n        \"description\": \"\"\n      }\n    },\n    {\n      \"column\": \"air_quality_status\",\n      \"properties\": {\n        \"dtype\": \"category\",\n        \"num_unique_values\": 6,\n        \"samples\": [\n          \"Moderate\"\n        ],\n        \"semantic_type\": \"\",\n        \"description\": \"\"\n      }\n    }\n  ]\n}"
            }
          },
          "metadata": {},
          "execution_count": 17
        }
      ]
    },
    {
      "cell_type": "code",
      "source": [
        "raj_pm10.shape"
      ],
      "metadata": {
        "colab": {
          "base_uri": "https://localhost:8080/"
        },
        "id": "bLaCqXU_dDTL",
        "outputId": "acb12e44-94d0-46eb-c0c6-d904d1e9fc5f"
      },
      "execution_count": 18,
      "outputs": [
        {
          "output_type": "execute_result",
          "data": {
            "text/plain": [
              "(15449, 7)"
            ]
          },
          "metadata": {},
          "execution_count": 18
        }
      ]
    },
    {
      "cell_type": "code",
      "source": [
        "raj_pm10.drop(columns=[\"area\",\"number_of_monitoring_stations\",\"state\",\"prominent_pollutants\",\"air_quality_status\"], inplace= True)"
      ],
      "metadata": {
        "colab": {
          "base_uri": "https://localhost:8080/"
        },
        "id": "O5cNuGLwdWhd",
        "outputId": "3522d43b-6d31-4660-ae3e-3ab3789f46b7"
      },
      "execution_count": 19,
      "outputs": [
        {
          "output_type": "stream",
          "name": "stderr",
          "text": [
            "/tmp/ipython-input-241719931.py:1: SettingWithCopyWarning: \n",
            "A value is trying to be set on a copy of a slice from a DataFrame\n",
            "\n",
            "See the caveats in the documentation: https://pandas.pydata.org/pandas-docs/stable/user_guide/indexing.html#returning-a-view-versus-a-copy\n",
            "  raj_pm10.drop(columns=[\"area\",\"number_of_monitoring_stations\",\"state\",\"prominent_pollutants\",\"air_quality_status\"], inplace= True)\n"
          ]
        }
      ]
    },
    {
      "cell_type": "code",
      "source": [
        "raj_pm10.info()"
      ],
      "metadata": {
        "colab": {
          "base_uri": "https://localhost:8080/"
        },
        "id": "9GuK-ke7d4q5",
        "outputId": "f0737d35-af76-4445-b2d6-5514ebaf731f"
      },
      "execution_count": 20,
      "outputs": [
        {
          "output_type": "stream",
          "name": "stdout",
          "text": [
            "<class 'pandas.core.frame.DataFrame'>\n",
            "Index: 15449 entries, 28 to 235712\n",
            "Data columns (total 2 columns):\n",
            " #   Column     Non-Null Count  Dtype         \n",
            "---  ------     --------------  -----         \n",
            " 0   date       15449 non-null  datetime64[ns]\n",
            " 1   aqi_value  15449 non-null  int64         \n",
            "dtypes: datetime64[ns](1), int64(1)\n",
            "memory usage: 362.1 KB\n"
          ]
        }
      ]
    },
    {
      "cell_type": "code",
      "source": [
        "raj_pm10[\"date\"].nunique()"
      ],
      "metadata": {
        "colab": {
          "base_uri": "https://localhost:8080/"
        },
        "id": "inL08UCjd836",
        "outputId": "d4f2e1e0-4429-4a28-841e-f670550658ff"
      },
      "execution_count": 21,
      "outputs": [
        {
          "output_type": "execute_result",
          "data": {
            "text/plain": [
              "1117"
            ]
          },
          "metadata": {},
          "execution_count": 21
        }
      ]
    },
    {
      "cell_type": "code",
      "source": [
        "# Set date as index\n",
        "raj_pm10.set_index(\"date\", inplace=True)"
      ],
      "metadata": {
        "id": "_DkE5oTTPxWh"
      },
      "execution_count": 22,
      "outputs": []
    },
    {
      "cell_type": "code",
      "source": [
        "raj_pm10.head(3)"
      ],
      "metadata": {
        "colab": {
          "base_uri": "https://localhost:8080/",
          "height": 175
        },
        "id": "jokjOEklP07n",
        "outputId": "ce6eeee9-4f75-4cdd-921a-ecccb85c01e3"
      },
      "execution_count": 23,
      "outputs": [
        {
          "output_type": "execute_result",
          "data": {
            "text/plain": [
              "            aqi_value\n",
              "date                 \n",
              "2025-04-30        111\n",
              "2025-04-30        210\n",
              "2025-04-30        124"
            ],
            "text/html": [
              "\n",
              "  <div id=\"df-38e27284-1df6-4a77-b772-53558d73536f\" class=\"colab-df-container\">\n",
              "    <div>\n",
              "<style scoped>\n",
              "    .dataframe tbody tr th:only-of-type {\n",
              "        vertical-align: middle;\n",
              "    }\n",
              "\n",
              "    .dataframe tbody tr th {\n",
              "        vertical-align: top;\n",
              "    }\n",
              "\n",
              "    .dataframe thead th {\n",
              "        text-align: right;\n",
              "    }\n",
              "</style>\n",
              "<table border=\"1\" class=\"dataframe\">\n",
              "  <thead>\n",
              "    <tr style=\"text-align: right;\">\n",
              "      <th></th>\n",
              "      <th>aqi_value</th>\n",
              "    </tr>\n",
              "    <tr>\n",
              "      <th>date</th>\n",
              "      <th></th>\n",
              "    </tr>\n",
              "  </thead>\n",
              "  <tbody>\n",
              "    <tr>\n",
              "      <th>2025-04-30</th>\n",
              "      <td>111</td>\n",
              "    </tr>\n",
              "    <tr>\n",
              "      <th>2025-04-30</th>\n",
              "      <td>210</td>\n",
              "    </tr>\n",
              "    <tr>\n",
              "      <th>2025-04-30</th>\n",
              "      <td>124</td>\n",
              "    </tr>\n",
              "  </tbody>\n",
              "</table>\n",
              "</div>\n",
              "    <div class=\"colab-df-buttons\">\n",
              "\n",
              "  <div class=\"colab-df-container\">\n",
              "    <button class=\"colab-df-convert\" onclick=\"convertToInteractive('df-38e27284-1df6-4a77-b772-53558d73536f')\"\n",
              "            title=\"Convert this dataframe to an interactive table.\"\n",
              "            style=\"display:none;\">\n",
              "\n",
              "  <svg xmlns=\"http://www.w3.org/2000/svg\" height=\"24px\" viewBox=\"0 -960 960 960\">\n",
              "    <path d=\"M120-120v-720h720v720H120Zm60-500h600v-160H180v160Zm220 220h160v-160H400v160Zm0 220h160v-160H400v160ZM180-400h160v-160H180v160Zm440 0h160v-160H620v160ZM180-180h160v-160H180v160Zm440 0h160v-160H620v160Z\"/>\n",
              "  </svg>\n",
              "    </button>\n",
              "\n",
              "  <style>\n",
              "    .colab-df-container {\n",
              "      display:flex;\n",
              "      gap: 12px;\n",
              "    }\n",
              "\n",
              "    .colab-df-convert {\n",
              "      background-color: #E8F0FE;\n",
              "      border: none;\n",
              "      border-radius: 50%;\n",
              "      cursor: pointer;\n",
              "      display: none;\n",
              "      fill: #1967D2;\n",
              "      height: 32px;\n",
              "      padding: 0 0 0 0;\n",
              "      width: 32px;\n",
              "    }\n",
              "\n",
              "    .colab-df-convert:hover {\n",
              "      background-color: #E2EBFA;\n",
              "      box-shadow: 0px 1px 2px rgba(60, 64, 67, 0.3), 0px 1px 3px 1px rgba(60, 64, 67, 0.15);\n",
              "      fill: #174EA6;\n",
              "    }\n",
              "\n",
              "    .colab-df-buttons div {\n",
              "      margin-bottom: 4px;\n",
              "    }\n",
              "\n",
              "    [theme=dark] .colab-df-convert {\n",
              "      background-color: #3B4455;\n",
              "      fill: #D2E3FC;\n",
              "    }\n",
              "\n",
              "    [theme=dark] .colab-df-convert:hover {\n",
              "      background-color: #434B5C;\n",
              "      box-shadow: 0px 1px 3px 1px rgba(0, 0, 0, 0.15);\n",
              "      filter: drop-shadow(0px 1px 2px rgba(0, 0, 0, 0.3));\n",
              "      fill: #FFFFFF;\n",
              "    }\n",
              "  </style>\n",
              "\n",
              "    <script>\n",
              "      const buttonEl =\n",
              "        document.querySelector('#df-38e27284-1df6-4a77-b772-53558d73536f button.colab-df-convert');\n",
              "      buttonEl.style.display =\n",
              "        google.colab.kernel.accessAllowed ? 'block' : 'none';\n",
              "\n",
              "      async function convertToInteractive(key) {\n",
              "        const element = document.querySelector('#df-38e27284-1df6-4a77-b772-53558d73536f');\n",
              "        const dataTable =\n",
              "          await google.colab.kernel.invokeFunction('convertToInteractive',\n",
              "                                                    [key], {});\n",
              "        if (!dataTable) return;\n",
              "\n",
              "        const docLinkHtml = 'Like what you see? Visit the ' +\n",
              "          '<a target=\"_blank\" href=https://colab.research.google.com/notebooks/data_table.ipynb>data table notebook</a>'\n",
              "          + ' to learn more about interactive tables.';\n",
              "        element.innerHTML = '';\n",
              "        dataTable['output_type'] = 'display_data';\n",
              "        await google.colab.output.renderOutput(dataTable, element);\n",
              "        const docLink = document.createElement('div');\n",
              "        docLink.innerHTML = docLinkHtml;\n",
              "        element.appendChild(docLink);\n",
              "      }\n",
              "    </script>\n",
              "  </div>\n",
              "\n",
              "\n",
              "    <div id=\"df-249ce6b7-7e51-41f4-aa04-46789f28bbfc\">\n",
              "      <button class=\"colab-df-quickchart\" onclick=\"quickchart('df-249ce6b7-7e51-41f4-aa04-46789f28bbfc')\"\n",
              "                title=\"Suggest charts\"\n",
              "                style=\"display:none;\">\n",
              "\n",
              "<svg xmlns=\"http://www.w3.org/2000/svg\" height=\"24px\"viewBox=\"0 0 24 24\"\n",
              "     width=\"24px\">\n",
              "    <g>\n",
              "        <path d=\"M19 3H5c-1.1 0-2 .9-2 2v14c0 1.1.9 2 2 2h14c1.1 0 2-.9 2-2V5c0-1.1-.9-2-2-2zM9 17H7v-7h2v7zm4 0h-2V7h2v10zm4 0h-2v-4h2v4z\"/>\n",
              "    </g>\n",
              "</svg>\n",
              "      </button>\n",
              "\n",
              "<style>\n",
              "  .colab-df-quickchart {\n",
              "      --bg-color: #E8F0FE;\n",
              "      --fill-color: #1967D2;\n",
              "      --hover-bg-color: #E2EBFA;\n",
              "      --hover-fill-color: #174EA6;\n",
              "      --disabled-fill-color: #AAA;\n",
              "      --disabled-bg-color: #DDD;\n",
              "  }\n",
              "\n",
              "  [theme=dark] .colab-df-quickchart {\n",
              "      --bg-color: #3B4455;\n",
              "      --fill-color: #D2E3FC;\n",
              "      --hover-bg-color: #434B5C;\n",
              "      --hover-fill-color: #FFFFFF;\n",
              "      --disabled-bg-color: #3B4455;\n",
              "      --disabled-fill-color: #666;\n",
              "  }\n",
              "\n",
              "  .colab-df-quickchart {\n",
              "    background-color: var(--bg-color);\n",
              "    border: none;\n",
              "    border-radius: 50%;\n",
              "    cursor: pointer;\n",
              "    display: none;\n",
              "    fill: var(--fill-color);\n",
              "    height: 32px;\n",
              "    padding: 0;\n",
              "    width: 32px;\n",
              "  }\n",
              "\n",
              "  .colab-df-quickchart:hover {\n",
              "    background-color: var(--hover-bg-color);\n",
              "    box-shadow: 0 1px 2px rgba(60, 64, 67, 0.3), 0 1px 3px 1px rgba(60, 64, 67, 0.15);\n",
              "    fill: var(--button-hover-fill-color);\n",
              "  }\n",
              "\n",
              "  .colab-df-quickchart-complete:disabled,\n",
              "  .colab-df-quickchart-complete:disabled:hover {\n",
              "    background-color: var(--disabled-bg-color);\n",
              "    fill: var(--disabled-fill-color);\n",
              "    box-shadow: none;\n",
              "  }\n",
              "\n",
              "  .colab-df-spinner {\n",
              "    border: 2px solid var(--fill-color);\n",
              "    border-color: transparent;\n",
              "    border-bottom-color: var(--fill-color);\n",
              "    animation:\n",
              "      spin 1s steps(1) infinite;\n",
              "  }\n",
              "\n",
              "  @keyframes spin {\n",
              "    0% {\n",
              "      border-color: transparent;\n",
              "      border-bottom-color: var(--fill-color);\n",
              "      border-left-color: var(--fill-color);\n",
              "    }\n",
              "    20% {\n",
              "      border-color: transparent;\n",
              "      border-left-color: var(--fill-color);\n",
              "      border-top-color: var(--fill-color);\n",
              "    }\n",
              "    30% {\n",
              "      border-color: transparent;\n",
              "      border-left-color: var(--fill-color);\n",
              "      border-top-color: var(--fill-color);\n",
              "      border-right-color: var(--fill-color);\n",
              "    }\n",
              "    40% {\n",
              "      border-color: transparent;\n",
              "      border-right-color: var(--fill-color);\n",
              "      border-top-color: var(--fill-color);\n",
              "    }\n",
              "    60% {\n",
              "      border-color: transparent;\n",
              "      border-right-color: var(--fill-color);\n",
              "    }\n",
              "    80% {\n",
              "      border-color: transparent;\n",
              "      border-right-color: var(--fill-color);\n",
              "      border-bottom-color: var(--fill-color);\n",
              "    }\n",
              "    90% {\n",
              "      border-color: transparent;\n",
              "      border-bottom-color: var(--fill-color);\n",
              "    }\n",
              "  }\n",
              "</style>\n",
              "\n",
              "      <script>\n",
              "        async function quickchart(key) {\n",
              "          const quickchartButtonEl =\n",
              "            document.querySelector('#' + key + ' button');\n",
              "          quickchartButtonEl.disabled = true;  // To prevent multiple clicks.\n",
              "          quickchartButtonEl.classList.add('colab-df-spinner');\n",
              "          try {\n",
              "            const charts = await google.colab.kernel.invokeFunction(\n",
              "                'suggestCharts', [key], {});\n",
              "          } catch (error) {\n",
              "            console.error('Error during call to suggestCharts:', error);\n",
              "          }\n",
              "          quickchartButtonEl.classList.remove('colab-df-spinner');\n",
              "          quickchartButtonEl.classList.add('colab-df-quickchart-complete');\n",
              "        }\n",
              "        (() => {\n",
              "          let quickchartButtonEl =\n",
              "            document.querySelector('#df-249ce6b7-7e51-41f4-aa04-46789f28bbfc button');\n",
              "          quickchartButtonEl.style.display =\n",
              "            google.colab.kernel.accessAllowed ? 'block' : 'none';\n",
              "        })();\n",
              "      </script>\n",
              "    </div>\n",
              "\n",
              "    </div>\n",
              "  </div>\n"
            ],
            "application/vnd.google.colaboratory.intrinsic+json": {
              "type": "dataframe",
              "variable_name": "raj_pm10",
              "summary": "{\n  \"name\": \"raj_pm10\",\n  \"rows\": 15449,\n  \"fields\": [\n    {\n      \"column\": \"date\",\n      \"properties\": {\n        \"dtype\": \"date\",\n        \"min\": \"2022-04-01 00:00:00\",\n        \"max\": \"2025-04-30 00:00:00\",\n        \"num_unique_values\": 1117,\n        \"samples\": [\n          \"2022-08-01 00:00:00\",\n          \"2025-01-19 00:00:00\",\n          \"2023-12-30 00:00:00\"\n        ],\n        \"semantic_type\": \"\",\n        \"description\": \"\"\n      }\n    },\n    {\n      \"column\": \"aqi_value\",\n      \"properties\": {\n        \"dtype\": \"number\",\n        \"std\": 49,\n        \"min\": 18,\n        \"max\": 441,\n        \"num_unique_values\": 349,\n        \"samples\": [\n          173,\n          282,\n          441\n        ],\n        \"semantic_type\": \"\",\n        \"description\": \"\"\n      }\n    }\n  ]\n}"
            }
          },
          "metadata": {},
          "execution_count": 23
        }
      ]
    },
    {
      "cell_type": "code",
      "source": [
        "# Resample to daily mean (since multiple readings may exist per day)\n",
        "raj_pm10_daily = raj_pm10[\"aqi_value\"].resample(\"D\").mean()\n",
        "# Fill missing days (if any) using forward fill\n",
        "raj_pm10_daily = raj_pm10_daily.fillna(method=\"ffill\")"
      ],
      "metadata": {
        "colab": {
          "base_uri": "https://localhost:8080/"
        },
        "id": "BvNgq_1pQBIc",
        "outputId": "d0335e6b-6df5-4f09-8b79-293c123839be"
      },
      "execution_count": 24,
      "outputs": [
        {
          "output_type": "stream",
          "name": "stderr",
          "text": [
            "/tmp/ipython-input-901330804.py:4: FutureWarning: Series.fillna with 'method' is deprecated and will raise in a future version. Use obj.ffill() or obj.bfill() instead.\n",
            "  raj_pm10_daily = raj_pm10_daily.fillna(method=\"ffill\")\n"
          ]
        }
      ]
    },
    {
      "cell_type": "code",
      "source": [
        "raj_pm10_daily.shape"
      ],
      "metadata": {
        "colab": {
          "base_uri": "https://localhost:8080/"
        },
        "id": "lQgJrqF4RRTp",
        "outputId": "3b022c5a-fa26-41e0-fa87-664ef4a9d0d9"
      },
      "execution_count": 25,
      "outputs": [
        {
          "output_type": "execute_result",
          "data": {
            "text/plain": [
              "(1126,)"
            ]
          },
          "metadata": {},
          "execution_count": 25
        }
      ]
    },
    {
      "cell_type": "code",
      "source": [
        "raj_pm10_daily.head(5)"
      ],
      "metadata": {
        "colab": {
          "base_uri": "https://localhost:8080/",
          "height": 272
        },
        "id": "WokShfYkQRCU",
        "outputId": "0e1e3b8d-4d42-48e8-cf3d-4f3df3938025"
      },
      "execution_count": 26,
      "outputs": [
        {
          "output_type": "execute_result",
          "data": {
            "text/plain": [
              "date\n",
              "2022-04-01    102.000000\n",
              "2022-04-02    142.000000\n",
              "2022-04-03    124.333333\n",
              "2022-04-04    107.666667\n",
              "2022-04-05    100.500000\n",
              "Freq: D, Name: aqi_value, dtype: float64"
            ],
            "text/html": [
              "<div>\n",
              "<style scoped>\n",
              "    .dataframe tbody tr th:only-of-type {\n",
              "        vertical-align: middle;\n",
              "    }\n",
              "\n",
              "    .dataframe tbody tr th {\n",
              "        vertical-align: top;\n",
              "    }\n",
              "\n",
              "    .dataframe thead th {\n",
              "        text-align: right;\n",
              "    }\n",
              "</style>\n",
              "<table border=\"1\" class=\"dataframe\">\n",
              "  <thead>\n",
              "    <tr style=\"text-align: right;\">\n",
              "      <th></th>\n",
              "      <th>aqi_value</th>\n",
              "    </tr>\n",
              "    <tr>\n",
              "      <th>date</th>\n",
              "      <th></th>\n",
              "    </tr>\n",
              "  </thead>\n",
              "  <tbody>\n",
              "    <tr>\n",
              "      <th>2022-04-01</th>\n",
              "      <td>102.000000</td>\n",
              "    </tr>\n",
              "    <tr>\n",
              "      <th>2022-04-02</th>\n",
              "      <td>142.000000</td>\n",
              "    </tr>\n",
              "    <tr>\n",
              "      <th>2022-04-03</th>\n",
              "      <td>124.333333</td>\n",
              "    </tr>\n",
              "    <tr>\n",
              "      <th>2022-04-04</th>\n",
              "      <td>107.666667</td>\n",
              "    </tr>\n",
              "    <tr>\n",
              "      <th>2022-04-05</th>\n",
              "      <td>100.500000</td>\n",
              "    </tr>\n",
              "  </tbody>\n",
              "</table>\n",
              "</div><br><label><b>dtype:</b> float64</label>"
            ]
          },
          "metadata": {},
          "execution_count": 26
        }
      ]
    },
    {
      "cell_type": "code",
      "source": [
        "# Check for missing value\n",
        "raj_pm10_daily.isnull().sum()\n"
      ],
      "metadata": {
        "colab": {
          "base_uri": "https://localhost:8080/"
        },
        "id": "hkaD3yWGOJWx",
        "outputId": "7ea0c867-6171-4af9-ec0e-7a7549f8c4d0"
      },
      "execution_count": 27,
      "outputs": [
        {
          "output_type": "execute_result",
          "data": {
            "text/plain": [
              "np.int64(0)"
            ]
          },
          "metadata": {},
          "execution_count": 27
        }
      ]
    },
    {
      "cell_type": "code",
      "source": [
        "# Check for stationarity (ADF test)\n",
        "result = adfuller(raj_pm10_daily)\n",
        "print(\"ADF Statistic:\", result[0])\n",
        "print(\"p-value:\", result[1])"
      ],
      "metadata": {
        "colab": {
          "base_uri": "https://localhost:8080/"
        },
        "id": "LgucqA0sTGrI",
        "outputId": "a91ee3e6-ffee-491a-bb34-e24ac87f641d"
      },
      "execution_count": 28,
      "outputs": [
        {
          "output_type": "stream",
          "name": "stdout",
          "text": [
            "ADF Statistic: -3.463341896131816\n",
            "p-value: 0.008980000201038686\n"
          ]
        }
      ]
    },
    {
      "cell_type": "markdown",
      "source": [
        "Therefor the series is already stationary with p-values < 0.05"
      ],
      "metadata": {
        "id": "ZuNB6CKTb1fR"
      }
    },
    {
      "cell_type": "code",
      "source": [
        "#plot ACF\n",
        "plt.figure(figsize=(12,5))\n",
        "plot_acf(raj_pm10_daily, lags=50)\n",
        "plt.show()"
      ],
      "metadata": {
        "colab": {
          "base_uri": "https://localhost:8080/",
          "height": 470
        },
        "id": "kWFjJMr2VhDA",
        "outputId": "329704f2-ed05-4250-d200-27720167ae6e"
      },
      "execution_count": 29,
      "outputs": [
        {
          "output_type": "display_data",
          "data": {
            "text/plain": [
              "<Figure size 1200x500 with 0 Axes>"
            ]
          },
          "metadata": {}
        },
        {
          "output_type": "display_data",
          "data": {
            "text/plain": [
              "<Figure size 640x480 with 1 Axes>"
            ],
            "image/png": "[encoded data removed]"
          },
          "metadata": {}
        }
      ]
    },
    {
      "cell_type": "code",
      "source": [
        "# plot PACF\n",
        "plt.figure(figsize=(12,5))\n",
        "plot_pacf(raj_pm10_daily, lags=50)\n",
        "plt.show()\n"
      ],
      "metadata": {
        "colab": {
          "base_uri": "https://localhost:8080/",
          "height": 470
        },
        "id": "DCwkypaPTcTn",
        "outputId": "bda7cc28-ac84-4b0b-9c0e-55a14f4a221d"
      },
      "execution_count": 30,
      "outputs": [
        {
          "output_type": "display_data",
          "data": {
            "text/plain": [
              "<Figure size 1200x500 with 0 Axes>"
            ]
          },
          "metadata": {}
        },
        {
          "output_type": "display_data",
          "data": {
            "text/plain": [
              "<Figure size 640x480 with 1 Axes>"
            ],
            "image/png": "[encoded data removed]"
          },
          "metadata": {}
        }
      ]
    },
    {
      "cell_type": "markdown",
      "source": [
        "**An ARIMA(p, d, q) model has three parameters:**\n",
        "\n",
        "**p** (AR order): How many past values of the series are used to predict the next value.\n",
        "\n",
        "**d** (difference order): How many times we difference the series to make it stationary.\n",
        "\n",
        "**q** (MA order): How many past forecast errors are used to predict the next value.\n",
        "\n",
        "From the results:\n",
        "\n",
        "ADF test (p-value ≈ 0.009)\n",
        "\n",
        "Rejects null hypothesis of non-stationarity → the series is already stationary.\n",
        "\n",
        "So d = 0.\n",
        "\n",
        "PACF plot\n",
        "\n",
        "A huge spike at lag 1, then almost flat.\n",
        "\n",
        "This means past value at lag 1 explains most of the series → AR(1) is enough.\n",
        "\n",
        "So p = 1.\n",
        "\n",
        "ACF plot\n",
        "\n",
        "Slow decay instead of cutting off immediately.\n",
        "\n",
        "Suggests some MA (moving average) component might exist (because errors accumulate).\n",
        "\n",
        "So q = 1 could be added.\n",
        "\n",
        "ARIMA(1,0,0) → “Pure AR model”\n",
        "\n",
        "ARIMA(1,0,1) → “AR + MA model”"
      ],
      "metadata": {
        "id": "Dyurw4ZHcvgE"
      }
    },
    {
      "cell_type": "code",
      "source": [
        "# ARIMA(1,0,0)\n",
        "AR_model = sm.tsa.ARIMA(raj_pm10[\"aqi_value\"], order=(1,0,0))\n",
        "results_ar = AR_model.fit()\n",
        "print(\"ARIMA(1,0,0) Summary:\")\n",
        "print(results_ar.summary())\n",
        "print(\"\\nAIC:\", results_ar.aic, \" BIC:\", results_ar.bic)"
      ],
      "metadata": {
        "colab": {
          "base_uri": "https://localhost:8080/"
        },
        "id": "qUFgWl9kcvSS",
        "outputId": "cb475030-dc7d-4d03-cdc0-46555d221808"
      },
      "execution_count": 31,
      "outputs": [
        {
          "output_type": "stream",
          "name": "stderr",
          "text": [
            "/usr/local/lib/python3.12/dist-packages/statsmodels/tsa/base/tsa_model.py:473: ValueWarning: A date index has been provided, but it has no associated frequency information and so will be ignored when e.g. forecasting.\n",
            "  self._init_dates(dates, freq)\n",
            "/usr/local/lib/python3.12/dist-packages/statsmodels/tsa/base/tsa_model.py:473: ValueWarning: A date index has been provided, but it is not monotonic and so will be ignored when e.g. forecasting.\n",
            "  self._init_dates(dates, freq)\n",
            "/usr/local/lib/python3.12/dist-packages/statsmodels/tsa/base/tsa_model.py:473: ValueWarning: A date index has been provided, but it has no associated frequency information and so will be ignored when e.g. forecasting.\n",
            "  self._init_dates(dates, freq)\n",
            "/usr/local/lib/python3.12/dist-packages/statsmodels/tsa/base/tsa_model.py:473: ValueWarning: A date index has been provided, but it is not monotonic and so will be ignored when e.g. forecasting.\n",
            "  self._init_dates(dates, freq)\n",
            "/usr/local/lib/python3.12/dist-packages/statsmodels/tsa/base/tsa_model.py:473: ValueWarning: A date index has been provided, but it has no associated frequency information and so will be ignored when e.g. forecasting.\n",
            "  self._init_dates(dates, freq)\n",
            "/usr/local/lib/python3.12/dist-packages/statsmodels/tsa/base/tsa_model.py:473: ValueWarning: A date index has been provided, but it is not monotonic and so will be ignored when e.g. forecasting.\n",
            "  self._init_dates(dates, freq)\n"
          ]
        },
        {
          "output_type": "stream",
          "name": "stdout",
          "text": [
            "ARIMA(1,0,0) Summary:\n",
            "                               SARIMAX Results                                \n",
            "==============================================================================\n",
            "Dep. Variable:              aqi_value   No. Observations:                15449\n",
            "Model:                 ARIMA(1, 0, 0)   Log Likelihood              -81197.958\n",
            "Date:                Wed, 24 Sep 2025   AIC                         162401.916\n",
            "Time:                        12:49:30   BIC                         162424.852\n",
            "Sample:                             0   HQIC                        162409.515\n",
            "                              - 15449                                         \n",
            "Covariance Type:                  opg                                         \n",
            "==============================================================================\n",
            "                 coef    std err          z      P>|z|      [0.025      0.975]\n",
            "------------------------------------------------------------------------------\n",
            "const        113.3878      0.707    160.271      0.000     112.001     114.774\n",
            "ar.L1          0.3224      0.006     53.192      0.000       0.311       0.334\n",
            "sigma2      2151.5059     17.453    123.271      0.000    2117.298    2185.714\n",
            "===================================================================================\n",
            "Ljung-Box (L1) (Q):                 105.54   Jarque-Bera (JB):             17827.97\n",
            "Prob(Q):                              0.00   Prob(JB):                         0.00\n",
            "Heteroskedasticity (H):               1.32   Skew:                             1.53\n",
            "Prob(H) (two-sided):                  0.00   Kurtosis:                         7.28\n",
            "===================================================================================\n",
            "\n",
            "Warnings:\n",
            "[1] Covariance matrix calculated using the outer product of gradients (complex-step).\n",
            "\n",
            "AIC: 162401.91635336576  BIC: 162424.8522520317\n"
          ]
        }
      ]
    },
    {
      "cell_type": "code",
      "source": [
        "# ARIMA(1,0,1)\n",
        "AR_model_ma = sm.tsa.ARIMA(raj_pm10[\"aqi_value\"], order=(1,0,1))\n",
        "results_ar_ma = AR_model_ma.fit()\n",
        "print(\"\\nARIMA(1,0,1) Summary:\")\n",
        "print(results_ar_ma.summary())\n",
        "print(\"\\nAIC:\", results_ar_ma.aic, \" BIC:\", results_ar_ma.bic)"
      ],
      "metadata": {
        "id": "WWG0lsJLWWgi",
        "colab": {
          "base_uri": "https://localhost:8080/"
        },
        "outputId": "78c6c850-26a5-4415-b6df-cca8c4d2ed41"
      },
      "execution_count": 32,
      "outputs": [
        {
          "output_type": "stream",
          "name": "stderr",
          "text": [
            "/usr/local/lib/python3.12/dist-packages/statsmodels/tsa/base/tsa_model.py:473: ValueWarning: A date index has been provided, but it has no associated frequency information and so will be ignored when e.g. forecasting.\n",
            "  self._init_dates(dates, freq)\n",
            "/usr/local/lib/python3.12/dist-packages/statsmodels/tsa/base/tsa_model.py:473: ValueWarning: A date index has been provided, but it is not monotonic and so will be ignored when e.g. forecasting.\n",
            "  self._init_dates(dates, freq)\n",
            "/usr/local/lib/python3.12/dist-packages/statsmodels/tsa/base/tsa_model.py:473: ValueWarning: A date index has been provided, but it has no associated frequency information and so will be ignored when e.g. forecasting.\n",
            "  self._init_dates(dates, freq)\n",
            "/usr/local/lib/python3.12/dist-packages/statsmodels/tsa/base/tsa_model.py:473: ValueWarning: A date index has been provided, but it is not monotonic and so will be ignored when e.g. forecasting.\n",
            "  self._init_dates(dates, freq)\n",
            "/usr/local/lib/python3.12/dist-packages/statsmodels/tsa/base/tsa_model.py:473: ValueWarning: A date index has been provided, but it has no associated frequency information and so will be ignored when e.g. forecasting.\n",
            "  self._init_dates(dates, freq)\n",
            "/usr/local/lib/python3.12/dist-packages/statsmodels/tsa/base/tsa_model.py:473: ValueWarning: A date index has been provided, but it is not monotonic and so will be ignored when e.g. forecasting.\n",
            "  self._init_dates(dates, freq)\n",
            "/usr/local/lib/python3.12/dist-packages/statsmodels/tsa/statespace/sarimax.py:966: UserWarning: Non-stationary starting autoregressive parameters found. Using zeros as starting parameters.\n",
            "  warn('Non-stationary starting autoregressive parameters'\n"
          ]
        },
        {
          "output_type": "stream",
          "name": "stdout",
          "text": [
            "\n",
            "ARIMA(1,0,1) Summary:\n",
            "                               SARIMAX Results                                \n",
            "==============================================================================\n",
            "Dep. Variable:              aqi_value   No. Observations:                15449\n",
            "Model:                 ARIMA(1, 0, 1)   Log Likelihood              -79488.299\n",
            "Date:                Wed, 24 Sep 2025   AIC                         158984.598\n",
            "Time:                        12:49:42   BIC                         159015.180\n",
            "Sample:                             0   HQIC                        158994.730\n",
            "                              - 15449                                         \n",
            "Covariance Type:                  opg                                         \n",
            "==============================================================================\n",
            "                 coef    std err          z      P>|z|      [0.025      0.975]\n",
            "------------------------------------------------------------------------------\n",
            "const        113.4038      5.610     20.215      0.000     102.409     124.399\n",
            "ar.L1          0.9945      0.001   1025.599      0.000       0.993       0.996\n",
            "ma.L1         -0.9294      0.003   -363.742      0.000      -0.934      -0.924\n",
            "sigma2      1724.2822     13.148    131.141      0.000    1698.512    1750.052\n",
            "===================================================================================\n",
            "Ljung-Box (L1) (Q):                   0.77   Jarque-Bera (JB):             21665.17\n",
            "Prob(Q):                              0.38   Prob(JB):                         0.00\n",
            "Heteroskedasticity (H):               1.45   Skew:                             1.57\n",
            "Prob(H) (two-sided):                  0.00   Kurtosis:                         7.88\n",
            "===================================================================================\n",
            "\n",
            "Warnings:\n",
            "[1] Covariance matrix calculated using the outer product of gradients (complex-step).\n",
            "\n",
            "AIC: 158984.59844971175  BIC: 159015.179647933\n"
          ]
        }
      ]
    },
    {
      "cell_type": "code",
      "source": [],
      "metadata": {
        "id": "zlumsgmngU7z"
      },
      "execution_count": 32,
      "outputs": []
    },
    {
      "cell_type": "markdown",
      "source": [
        "**Comparing AR(1,0,0 and 1,0,1)**\n",
        "\n",
        "Log Likelihood = -79,488:\n",
        "Better (higher) than ARIMA(1,0,0), which was -81,197.\n",
        "\n",
        "AIC = 158,984:\n",
        "Much lower than 162,401 → this is a clear improvement.\n",
        "\n",
        "BIC = 159,015:\n",
        "Also lower than 162,424."
      ],
      "metadata": {
        "id": "0dCK0lZ0mysL"
      }
    },
    {
      "cell_type": "code",
      "source": [
        "#Plot residuals over time\n",
        "residuals = results_ar_ma.resid\n",
        "plt.figure(figsize=(12,6))\n",
        "plt.plot(residuals)\n",
        "plt.title(\"Residuals from ARIMA(1,0,1)\")\n",
        "plt.show()\n",
        "\n",
        "sns.histplot(residuals, bins=50, kde=True)\n",
        "plt.title(\"Residual Distribution\")\n",
        "plt.show()"
      ],
      "metadata": {
        "colab": {
          "base_uri": "https://localhost:8080/",
          "height": 980
        },
        "id": "73067VYlm-1J",
        "outputId": "4c4018c7-bcc3-4f6f-d2b1-ac91bd7943fb"
      },
      "execution_count": 33,
      "outputs": [
        {
          "output_type": "display_data",
          "data": {
            "text/plain": [
              "<Figure size 1200x600 with 1 Axes>"
            ],
            "image/png": "[encoded data removed]"
          },
          "metadata": {}
        },
        {
          "output_type": "display_data",
          "data": {
            "text/plain": [
              "<Figure size 640x480 with 1 Axes>"
            ],
            "image/png": "[encoded data removed]"
          },
          "metadata": {}
        }
      ]
    },
    {
      "cell_type": "code",
      "source": [
        "# Residual diagnostics\n",
        "fig, ax = plt.subplots(1, 2, figsize=(14,5))\n",
        "\n",
        "# Histogram + KDE\n",
        "residuals.plot(kind='hist', bins=30, ax=ax[0], title=\"Residuals Histogram\")\n",
        "residuals.plot(kind='kde', ax=ax[0])\n",
        "\n",
        "# QQ-plot\n",
        "sm.qqplot(residuals, line='s', ax=ax[1])\n",
        "plt.title(\"QQ Plot of Residuals\")\n",
        "plt.show()\n",
        "\n",
        "# ACF plot\n",
        "sm.graphics.tsa.plot_acf(residuals, lags=40)\n",
        "plt.show()"
      ],
      "metadata": {
        "colab": {
          "base_uri": "https://localhost:8080/",
          "height": 922
        },
        "id": "wM1HYFiznxtC",
        "outputId": "c99c327f-d835-4736-83e1-8cec281ea19d"
      },
      "execution_count": 34,
      "outputs": [
        {
          "output_type": "display_data",
          "data": {
            "text/plain": [
              "<Figure size 1400x500 with 2 Axes>"
            ],
            "image/png": "[encoded data removed]"
          },
          "metadata": {}
        },
        {
          "output_type": "display_data",
          "data": {
            "text/plain": [
              "<Figure size 640x480 with 1 Axes>"
            ],
            "image/png": "[encoded data removed]"
          },
          "metadata": {}
        }
      ]
    },
    {
      "cell_type": "code",
      "source": [
        "raj_pm10.info()"
      ],
      "metadata": {
        "colab": {
          "base_uri": "https://localhost:8080/"
        },
        "id": "LFDq8F6vsApe",
        "outputId": "12f14f9d-6d49-403b-f549-caeebdcc7f29"
      },
      "execution_count": 35,
      "outputs": [
        {
          "output_type": "stream",
          "name": "stdout",
          "text": [
            "<class 'pandas.core.frame.DataFrame'>\n",
            "DatetimeIndex: 15449 entries, 2025-04-30 to 2022-04-01\n",
            "Data columns (total 1 columns):\n",
            " #   Column     Non-Null Count  Dtype\n",
            "---  ------     --------------  -----\n",
            " 0   aqi_value  15449 non-null  int64\n",
            "dtypes: int64(1)\n",
            "memory usage: 241.4 KB\n"
          ]
        }
      ]
    },
    {
      "cell_type": "code",
      "source": [
        "plt.figure(figsize=(12,6))\n",
        "plt.plot(raj_pm10.index, raj_pm10[\"aqi_value\"])\n",
        "plt.title(\"Daily AQI Values - Rajasthan (PM10)\")\n",
        "plt.xlabel(\"Date\")\n",
        "plt.ylabel(\"AQI\")\n",
        "plt.show()"
      ],
      "metadata": {
        "colab": {
          "base_uri": "https://localhost:8080/",
          "height": 564
        },
        "id": "0iQdrUTlp-a9",
        "outputId": "18b4157a-7f51-4b83-9018-993e4fddb1e5"
      },
      "execution_count": 36,
      "outputs": [
        {
          "output_type": "display_data",
          "data": {
            "text/plain": [
              "<Figure size 1200x600 with 1 Axes>"
            ],
            "image/png": "[encoded data removed]"
          },
          "metadata": {}
        }
      ]
    },
    {
      "cell_type": "markdown",
      "source": [
        "# **Forecasting**"
      ],
      "metadata": {
        "id": "a6QTGASVx1Vu"
      }
    },
    {
      "cell_type": "code",
      "source": [
        "# Forecast next 30 days\n",
        "forecast_steps = 30\n",
        "forecast =results_ar_ma.get_forecast(steps=forecast_steps)\n",
        "\n",
        "# Extract mean forecast and confidence intervals\n",
        "forecast_mean = forecast.predicted_mean\n",
        "forecast_ci = forecast.conf_int()\n",
        "\n",
        "# Combine into a DataFrame for easy viewing/export\n",
        "forecast_df = pd.DataFrame({\n",
        "    \"Forecast_AQI\": forecast_mean,\n",
        "    \"Lower_CI\": forecast_ci.iloc[:, 0],\n",
        "    \"Upper_CI\": forecast_ci.iloc[:, 1]\n",
        "})\n",
        "\n",
        "# Display forecast table\n",
        "print(forecast_df.head(10))  # first 10 rows\n",
        "\n",
        "# Save to CSV\n",
        "forecast_df.to_csv(\"aqi_forecast_30days.csv\", index=True)\n",
        "\n",
        "# Plot observed values + forecast\n",
        "plt.figure(figsize=(12,6))\n",
        "plt.plot(raj_pm10['aqi_value'], label=\"Observed\")\n",
        "plt.plot(forecast_mean.index, forecast_mean, label=\"Forecast\", color='red')\n",
        "plt.fill_between(forecast_ci.index,\n",
        "                 forecast_ci.iloc[:, 0],\n",
        "                 forecast_ci.iloc[:, 1],\n",
        "                 color='pink', alpha=0.3)\n",
        "\n",
        "plt.xlabel(\"Date\")\n",
        "plt.ylabel(\"AQI Value\")\n",
        "plt.title(f\"{forecast_steps}-Day AQI Forecast with ARIMA(1,0,1)\")\n",
        "plt.legend()\n",
        "plt.show()\n",
        "\n"
      ],
      "metadata": {
        "colab": {
          "base_uri": "https://localhost:8080/",
          "height": 816
        },
        "id": "DZ_scMuNxJWg",
        "outputId": "027bc01c-a7b4-4baa-98d6-1fa538c1573d"
      },
      "execution_count": 47,
      "outputs": [
        {
          "output_type": "stream",
          "name": "stderr",
          "text": [
            "/usr/local/lib/python3.12/dist-packages/statsmodels/tsa/base/tsa_model.py:837: ValueWarning: No supported index is available. Prediction results will be given with an integer index beginning at `start`.\n",
            "  return get_prediction_index(\n"
          ]
        },
        {
          "output_type": "stream",
          "name": "stdout",
          "text": [
            "       Forecast_AQI   Lower_CI    Upper_CI\n",
            "15449    119.049477  37.662997  200.435958\n",
            "15450    119.018408  37.459421  200.577395\n",
            "15451    118.987510  37.258267  200.716753\n",
            "15452    118.956782  37.059500  200.854063\n",
            "15453    118.926223  36.863085  200.989360\n",
            "15454    118.895832  36.668988  201.122675\n",
            "15455    118.865608  36.477175  201.254041\n",
            "15456    118.835551  36.287612  201.383489\n",
            "15457    118.805659  36.100269  201.511048\n",
            "15458    118.775931  35.915112  201.636750\n"
          ]
        },
        {
          "output_type": "display_data",
          "data": {
            "text/plain": [
              "<Figure size 1200x600 with 1 Axes>"
            ],
            "image/png": "[encoded data removed]"
          },
          "metadata": {}
        }
      ]
    },
    {
      "cell_type": "code",
      "source": [
        "import os\n",
        "print(os.listdir())"
      ],
      "metadata": {
        "colab": {
          "base_uri": "https://localhost:8080/"
        },
        "id": "yGRIlqjA2ebe",
        "outputId": "9ed6a83e-5f02-4342-ea72-82a3316ff99b"
      },
      "execution_count": 48,
      "outputs": [
        {
          "output_type": "stream",
          "name": "stdout",
          "text": [
            "['.config', 'aqi.csv', 'aqi_forecast_30days.csv', 'sample_data']\n"
          ]
        }
      ]
    },
    {
      "cell_type": "markdown",
      "source": [
        "# **Project Summary**\n",
        "\n",
        "📌 Project Summary: AQI Forecasting with ARIMA\n",
        "\n",
        "This project applies time series forecasting techniques to Air Quality Index (AQI) data.\n",
        "\n",
        "🔍 Data Preparation\n",
        "\n",
        "Dataset filtered to Rajasthan (state with the highest observations).\n",
        "\n",
        "Focused on PM10 pollutant (most dominant in the dataset).\n",
        "\n",
        "Data was resampled to a daily series for smooth forecasting.\n",
        "\n",
        "📊 Stationarity Check\n",
        "\n",
        "Augmented Dickey-Fuller (ADF) test statistic = -3.46, p-value < 0.01.\n",
        "\n",
        "Conclusion: Series is stationary, differencing not required (d = 0).\n",
        "\n",
        "🤖 Model Building\n",
        "\n",
        "ARIMA(1,0,0) and ARIMA(1,0,1) were compared.\n",
        "\n",
        "ARIMA(1,0,1) outperformed ARIMA(1,0,0) with a lower AIC/BIC.\n",
        "\n",
        "Residuals analysis showed no major autocorrelation left → model is well-fitted.\n",
        "\n",
        "📈 Forecasting Results\n",
        "\n",
        "A 10-step forecast predicted AQI stabilizing around 119.\n",
        "\n",
        "Confidence intervals showed natural uncertainty widening with time.\n",
        "\n",
        "Extended 100-step forecast clearly separated historical vs future predictions.\n",
        "\n",
        "Forecast suggests AQI will likely remain in the Satisfactory–Moderate range unless external shocks (e.g., pollution spikes) occur.\n",
        "\n",
        "✅ Key Insights\n",
        "\n",
        "AQI values in Rajasthan follow a repeating cyclical pattern.\n",
        "\n",
        "ARIMA provides reliable short-term forecasts but may be limited for long seasonal cycles.\n",
        "\n",
        "Forecasting is useful for policy planning, health advisories, and pollution control measures.\n",
        "\n",
        "🚀 Next Steps\n",
        "\n",
        "Upgrade to SARIMA/SARIMAX to model seasonality explicitly.\n",
        "\n",
        "Compare with machine learning models (XGBoost, LSTM) for long-term performance.\n",
        "\n",
        "Deploy forecasting results in a dashboard or API service for real-time monitoring."
      ],
      "metadata": {
        "id": "9FHrk2NEvg2i"
      }
    },
    {
      "cell_type": "code",
      "source": [
        "\n"
      ],
      "metadata": {
        "id": "b7FTfjHurxTk"
      },
      "execution_count": 37,
      "outputs": []
    },
    {
      "cell_type": "code",
      "source": [],
      "metadata": {
        "id": "wcYGDTFat3zY"
      },
      "execution_count": 37,
      "outputs": []
    }
  ],
  "metadata": {
    "colab": {
      "provenance": []
    },
    "kernelspec": {
      "display_name": "Python 3",
      "name": "python3"
    },
    "language_info": {
      "name": "python"
    }
  },
  "nbformat": 4,
  "nbformat_minor": 0
}